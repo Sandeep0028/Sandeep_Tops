{
 "cells": [
  {
   "cell_type": "markdown",
   "id": "70b8545a-f527-4a47-b235-03ff1a33f099",
   "metadata": {},
   "source": [
    "#Python Assignment"
   ]
  },
  {
   "cell_type": "code",
   "execution_count": null,
   "id": "de1fc57f-5a2f-4621-9be6-70c6febe2e96",
   "metadata": {},
   "outputs": [],
   "source": [
    "#Name: Sandeep R          Student id: 9714845055"
   ]
  },
  {
   "cell_type": "code",
   "execution_count": 18,
   "id": "dd2fe759-05ee-4695-86fe-b565fd528d86",
   "metadata": {
    "scrolled": true
   },
   "outputs": [
    {
     "name": "stdout",
     "output_type": "stream",
     "text": [
      "1: Web-developnment\n",
      "2: Mathematics\n",
      "3: Scientific Scripting\n",
      "4: Software-Developnment\n"
     ]
    }
   ],
   "source": [
    "#1) What are the types of Applications?\n",
    "print(\"1: Web-developnment\")\n",
    "print('2: Mathematics')\n",
    "print('3: Scientific Scripting')\n",
    "print('4: Software-Developnment')"
   ]
  },
  {
   "cell_type": "code",
   "execution_count": 10,
   "id": "5026873e-3fdb-44ba-b700-0f0d9305b4b4",
   "metadata": {},
   "outputs": [
    {
     "name": "stdout",
     "output_type": "stream",
     "text": [
      "A set of instructions that a computer can understand, written in a programming language, to solve a problem or automate a task. Think of it like writing a recipe for your computer to follow\n"
     ]
    }
   ],
   "source": [
    "# 2) What is programing?\n",
    "print('A set of instructions that a computer can understand, written in a programming language, to solve a problem or automate a task. Think of it like writing a recipe for your computer to follow')\n"
   ]
  },
  {
   "cell_type": "code",
   "execution_count": null,
   "id": "88b4e52c-49e7-4c99-9319-ce8e2239294d",
   "metadata": {},
   "outputs": [],
   "source": [
    "#3) What is Python?\n",
    "print(\" A high-level, easy-to-learn programming language, great for beginners and experts alike, used for\n",
    "web development, data analysis, artificial intelligence, and more\")"
   ]
  },
  {
   "cell_type": "code",
   "execution_count": 30,
   "id": "f82333b7-a496-4466-af9b-72a29068094e",
   "metadata": {},
   "outputs": [
    {
     "name": "stdin",
     "output_type": "stream",
     "text": [
      "enter the number 1\n"
     ]
    },
    {
     "name": "stdout",
     "output_type": "stream",
     "text": [
      "The Given Number Is Positive\n"
     ]
    }
   ],
   "source": [
    "#4) Write a Python program to check if a number is positive, negative or zero.\n",
    "n = int(input(\"enter the number\"))\n",
    "if n < 0 :\n",
    "        print(\"The Given Number Is Negative\")\n",
    "elif n == 0 :\n",
    "        print(\"Given Number Is Zero\")\n",
    "else:\n",
    "    print(\"The Given Number Is Positive\")"
   ]
  },
  {
   "cell_type": "code",
   "execution_count": 46,
   "id": "0e6d53be-5c3e-4c29-8212-0850b5463261",
   "metadata": {},
   "outputs": [
    {
     "name": "stdin",
     "output_type": "stream",
     "text": [
      "Enter The Given Number 4\n"
     ]
    },
    {
     "name": "stdout",
     "output_type": "stream",
     "text": [
      "24\n"
     ]
    }
   ],
   "source": [
    "#5)Write a Python program to get the Factorial number of given numbers.\n",
    "n = int(input(\"Enter The Given Number\"))\n",
    "f = 1\n",
    "if n < 0 :\n",
    "    print('Given number Is Negative')\n",
    "elif n == 0:\n",
    "    print('Given number is zero')\n",
    "else :\n",
    "    for h in range(1,n+1):\n",
    "        f = f*h\n",
    "    print (f)"
   ]
  },
  {
   "cell_type": "code",
   "execution_count": 100,
   "id": "8f093f9f-f038-4f40-9f8d-34a77fbd4415",
   "metadata": {},
   "outputs": [
    {
     "name": "stdin",
     "output_type": "stream",
     "text": [
      "Enter the number 20\n"
     ]
    },
    {
     "name": "stdout",
     "output_type": "stream",
     "text": [
      "[0, 1, 1, 2, 3, 5, 8, 13, 21, 34, 55, 89, 144, 233, 377, 610, 987, 1597, 2584, 4181, 6765]\n",
      "20\n"
     ]
    }
   ],
   "source": [
    "#6)Write a Python program to get the Fibonacci series of given range.\n",
    "user = int(input(\"Enter the number\"))\n",
    "Fibonacci = [0,1]\n",
    "for g in range (2,user+1):\n",
    "    Fibonacci.append(Fibonacci[g-1] + Fibonacci[g-2])\n",
    "print(Fibonacci)\n",
    "print(user)\n"
   ]
  },
  {
   "cell_type": "code",
   "execution_count": 84,
   "id": "470cdf05-a867-48ed-b4a0-3ae3600d7c07",
   "metadata": {},
   "outputs": [
    {
     "name": "stdout",
     "output_type": "stream",
     "text": [
      "Reference Counting: Python uses a reference counting mechanism to manage memory.\n",
      "Automatic Memory Management: Python automatically frees memory when an object's reference count reaches zero.\n",
      "Garbage Collection: Python has a built-in garbage collector that periodically checks for and frees unused memory.\n"
     ]
    }
   ],
   "source": [
    "#7)How memory is managed in Python?\n",
    "print( \"Reference Counting: Python uses a reference counting mechanism to manage memory.\")\n",
    "print(\"Automatic Memory Management: Python automatically frees memory when an object's reference count reaches zero.\")\n",
    "print(\"Garbage Collection: Python has a built-in garbage collector that periodically checks for and frees unused memory.\")"
   ]
  },
  {
   "cell_type": "code",
   "execution_count": 88,
   "id": "490859b7-b83b-4e38-8641-6c3be69f5b4a",
   "metadata": {},
   "outputs": [
    {
     "name": "stdout",
     "output_type": "stream",
     "text": [
      "The continue statement skips to the next iteration of a loop, effectively ignoring any remaining code inside the current iteration.\n"
     ]
    }
   ],
   "source": [
    "#8)What is the purpose continuing statement in python?\n",
    "print(\"The continue statement skips to the next iteration of a loop, effectively ignoring any remaining code inside the current iteration.\")\n"
   ]
  },
  {
   "cell_type": "code",
   "execution_count": 90,
   "id": "817d1af7-b4b5-4e60-912e-dce8147049ba",
   "metadata": {},
   "outputs": [
    {
     "name": "stdout",
     "output_type": "stream",
     "text": [
      "Variable 1 20\n",
      "Variable 2 10\n"
     ]
    }
   ],
   "source": [
    "#9) Write python program that swap two number with temp variable and without temp variable.\n",
    "#Swap with Temp Variable:\n",
    "Variable_1 = 10\n",
    "Variable_2 = 20 \n",
    "Tempvariable = Variable_1\n",
    "Variable_1 = Variable_2\n",
    "Variable_2 = Tempvariable\n",
    "print(\"Variable 1\", Variable_1)\n",
    "print(\"Variable 2\", Variable_2)"
   ]
  },
  {
   "cell_type": "code",
   "execution_count": 94,
   "id": "c41fe608-1ccc-4d2c-8cc0-8e3abae1e7c0",
   "metadata": {},
   "outputs": [
    {
     "name": "stdout",
     "output_type": "stream",
     "text": [
      "Variable 1 5\n",
      "Variable 2 15\n"
     ]
    }
   ],
   "source": [
    "#Swap without temp:\n",
    "Variable_1 = 15\n",
    "Variable_2 = 5\n",
    "Variable_1 , Variable_2 = Variable_2 , Variable_1\n",
    "print(\"Variable 1\", Variable_1)\n",
    "print(\"Variable 2\", Variable_2)"
   ]
  },
  {
   "cell_type": "code",
   "execution_count": 116,
   "id": "2309a1c0-71f3-45c4-84d5-133e5ddba83a",
   "metadata": {},
   "outputs": [
    {
     "name": "stdin",
     "output_type": "stream",
     "text": [
      "Enter the Given Number 6\n"
     ]
    },
    {
     "name": "stdout",
     "output_type": "stream",
     "text": [
      "The Number Is EVEN\n",
      "Thank You For Your Participating In Even And Odd Python Program\n"
     ]
    }
   ],
   "source": [
    "#10) Write a Python program to find whether a given number is even or odd, print out an appropriate message to the user.\n",
    "n = int(input(\"Enter the Given Number\"))\n",
    "if n%2 == 0:\n",
    " print(\"The Number Is EVEN\")\n",
    "else :\n",
    " print(\"The Number Is ODD\")\n",
    "print(\"Thank You For Your Participating In Even And Odd Python Program\")"
   ]
  },
  {
   "cell_type": "code",
   "execution_count": 40,
   "id": "1a2e14e9-b418-4470-b722-a904883acca9",
   "metadata": {},
   "outputs": [
    {
     "name": "stdin",
     "output_type": "stream",
     "text": [
      "Enter The Letter:  E\n"
     ]
    },
    {
     "name": "stdout",
     "output_type": "stream",
     "text": [
      "The Letter Has Been Enter Is Vowel\n"
     ]
    }
   ],
   "source": [
    "#11) Write a Python program to test whether a passed letter is a vowel or not.\n",
    "n = input(\"Enter The Letter: \")\n",
    "Vowel = [\"a\",\"e\",\"i\",\"o\",\"u\",\"A\",\"E\",\"I\",\"O\",\"U\"]\n",
    "if n in Vowel:\n",
    "        print(\"The Letter Has Been Enter Is Vowel\")\n",
    "else :\n",
    "        print(\"The Letter Is Not Vowel\")\n"
   ]
  },
  {
   "cell_type": "code",
   "execution_count": 73,
   "id": "6c996032-2489-4220-9cb0-b6112394d4d8",
   "metadata": {},
   "outputs": [
    {
     "name": "stdin",
     "output_type": "stream",
     "text": [
      "Enter The Number:  78\n",
      "Enter The Number:  89\n",
      "Enter The Number:  54\n"
     ]
    },
    {
     "name": "stdout",
     "output_type": "stream",
     "text": [
      "Sum Of Given Integer:  221\n"
     ]
    }
   ],
   "source": [
    "#12) Write a Python program to sum of three given integers. However, if two values are equal sum will be zero.\n",
    "Sum_1 = int(input(\"Enter The Number: \"))\n",
    "Sum_2 = int(input(\"Enter The Number: \"))\n",
    "Sum_3 = int(input(\"Enter The Number: \"))\n",
    "\n",
    "if Sum_1 == Sum_2 or Sum_2 == Sum_3 or Sum_3 == Sum_1:\n",
    "    print(\"One Of The Given Value Is Equal, So Sum Will Be Zero\")\n",
    "else:\n",
    "     print(\"Sum Of Given Integer: \", Sum_1 + Sum_2 + Sum_3)"
   ]
  },
  {
   "cell_type": "code",
   "execution_count": 97,
   "id": "cbc3601c-8c02-4b30-88c5-53e952aad76d",
   "metadata": {},
   "outputs": [
    {
     "name": "stdin",
     "output_type": "stream",
     "text": [
      "Enter The Number:  3\n",
      "Enter The Number:  9\n"
     ]
    },
    {
     "name": "stdout",
     "output_type": "stream",
     "text": [
      "False\n"
     ]
    }
   ],
   "source": [
    "#13) Write a Python program that will return true if the two given integer values are equal or their sum or difference is 5.\n",
    "a = int(input(\"Enter The Number: \"))\n",
    "b = int(input(\"Enter The Number: \"))\n",
    "#if a == b or a + b == 5 or a - b == 5:\n",
    "#    print(\"True\")\n",
    "#else:\n",
    "#    print(\"False\")\n",
    "print( a == b or a + b == 5 or a - b == 5 )\n",
    "    "
   ]
  },
  {
   "cell_type": "code",
   "execution_count": 103,
   "id": "614472a6-93f2-48c6-a14e-e048f29cd8b3",
   "metadata": {},
   "outputs": [
    {
     "name": "stdin",
     "output_type": "stream",
     "text": [
      "Enter The Positive Number:  5\n"
     ]
    },
    {
     "name": "stdout",
     "output_type": "stream",
     "text": [
      "Sum Of First Integer:  5 Positive Integer Will Be 15\n"
     ]
    }
   ],
   "source": [
    "#14)Write a python program to sum of the first n positive integers.\n",
    "# 5 = 1+2+3+4+5\n",
    "# FORMULA = NUMBER * ( NUMBER + 1 ) // 2\n",
    "n = int(input(\"Enter The Positive Number: \"))\n",
    "Sum_integer = n * ( n + 1 ) // 2\n",
    "print(\"Sum Of First Integer: \", n , \"Positive Integer Will Be\", Sum_integer)"
   ]
  },
  {
   "cell_type": "code",
   "execution_count": 107,
   "id": "5c064142-a87e-47d8-aba6-615670f6be5c",
   "metadata": {},
   "outputs": [
    {
     "name": "stdin",
     "output_type": "stream",
     "text": [
      "Enter Phrase:   i am hungry\n"
     ]
    },
    {
     "name": "stdout",
     "output_type": "stream",
     "text": [
      "12\n"
     ]
    }
   ],
   "source": [
    "#15)Write a Python program to calculate the length of a string.\n",
    "n = input(\"Enter Phrase: \")\n",
    "print(len(n))"
   ]
  },
  {
   "cell_type": "code",
   "execution_count": 42,
   "id": "8a3d1707-bd6e-40c2-a967-446c78d1d840",
   "metadata": {},
   "outputs": [
    {
     "name": "stdout",
     "output_type": "stream",
     "text": [
      "{'T': 1, 'h': 1, 'e': 2, ' ': 8, 'q': 1, 'u': 2, 'i': 1, 'c': 1, 'k': 1, 'b': 1, 'r': 2, 'o': 4, 'w': 1, 'n': 1, 'f': 1, 'x': 1, 'j': 1, 'm': 1, 'p': 1, 's': 1, 'v': 1, 'a': 2, 'l': 1, 'z': 1, 'y': 1, 'd': 1, 'g': 1}\n"
     ]
    }
   ],
   "source": [
    "#16) Write a Python program to count the number of characters (character frequency) in a string \n",
    "string = \"The quick brown fox jumps over a lazy dog\"\n",
    "dict = {}\n",
    "for n in string:\n",
    "    if n in dict:\n",
    "        dict[n]\n",
    "        dict[n] += 1\n",
    "    else:\n",
    "        dict[n] = 1\n",
    "print(dict)\n",
    "        \n"
   ]
  },
  {
   "cell_type": "code",
   "execution_count": 109,
   "id": "133b1aa1-ebe9-4617-ac8b-7e681c2bb960",
   "metadata": {},
   "outputs": [
    {
     "data": {
      "text/plain": [
       "'l'"
      ]
     },
     "execution_count": 109,
     "metadata": {},
     "output_type": "execute_result"
    }
   ],
   "source": [
    "#17)What are negative indexes and why are they used?\n",
    "#n = \"Goal\"\n",
    "#n[-1]\n",
    "#Allows you to access elements from the last of the sequence such as give example. its easyier to access last of the elements without knowing it's exact length."
   ]
  },
  {
   "cell_type": "code",
   "execution_count": 129,
   "id": "bf9f8297-9fc5-442e-8fe3-eaab508ee204",
   "metadata": {},
   "outputs": [
    {
     "name": "stdin",
     "output_type": "stream",
     "text": [
      "Enter The Phrase :  he is blind\n",
      "Enter The Phrase :  he is blind\n"
     ]
    },
    {
     "name": "stdout",
     "output_type": "stream",
     "text": [
      "The substring is he is blind Appears To Be 1 In The String\n"
     ]
    }
   ],
   "source": [
    "#18)Write a Python program to count occurrences of a substring in a string.\n",
    "String = input(\"Enter The Phrase : \")\n",
    "Substring = input(\"Enter The Phrase : \")\n",
    "count = String.count(Substring)\n",
    "m = \"The substring is {} Appears To Be {} In The String\"\n",
    "print(m.format(Substring,count))"
   ]
  },
  {
   "cell_type": "code",
   "execution_count": 46,
   "id": "d3b858ad-aac2-46a7-941f-4f139d7ed6fe",
   "metadata": {},
   "outputs": [
    {
     "name": "stdin",
     "output_type": "stream",
     "text": [
      "Enter The Sentence  bdfwesgfhwe kifgbiuegtw whweygw8y9t98qp\n"
     ]
    },
    {
     "name": "stdout",
     "output_type": "stream",
     "text": [
      "{'bdfwesgfhwe': 1, 'kifgbiuegtw': 1, 'whweygw8y9t98qp': 1}\n"
     ]
    }
   ],
   "source": [
    "#19) Write a Python program to count the occurrences of each word in a given sentence.\n",
    "\n",
    "sentence = input(\"Enter The Sentence\")\n",
    "sentence = sentence.lower()\n",
    "words =sentence.split()\n",
    "dict = {}\n",
    "for word in words:\n",
    "    if word in dict:\n",
    "        dict[word]\n",
    "        dict[word] += 1\n",
    "    else:\n",
    "        dict[word] = 1\n",
    "print(dict)"
   ]
  },
  {
   "cell_type": "code",
   "execution_count": 174,
   "id": "bee1738e-c0ea-4138-8f01-0e6a5c334bba",
   "metadata": {},
   "outputs": [
    {
     "name": "stdout",
     "output_type": "stream",
     "text": [
      "Dog\n",
      "Dax\n"
     ]
    }
   ],
   "source": [
    "#20) Write a Python program to get a single string from two given strings, separated by a space and swap the first two characters of each string.\n",
    "a = \"   Dog   \"\n",
    "b = \"max\"\n",
    "c = a.strip()\n",
    "print(c)\n",
    "d = b.replace(\"m\" , \"D\")\n",
    "print (d)"
   ]
  },
  {
   "cell_type": "code",
   "execution_count": 219,
   "id": "127c8533-b4cb-493c-8acc-6a5d0ad431b6",
   "metadata": {},
   "outputs": [
    {
     "name": "stdin",
     "output_type": "stream",
     "text": [
      "Enter The Character :  max\n"
     ]
    },
    {
     "name": "stdout",
     "output_type": "stream",
     "text": [
      "maxin\n"
     ]
    }
   ],
   "source": [
    "#21) Write a Python program to add 'in' at the end of a given string (length should be at least 3). If the given string already ends with 'ing' then\n",
    "#    add 'ly' instead if the string length of the given string is less than 3, leave it unchanged.\n",
    "\n",
    "string = input(\"Enter The Character : \")\n",
    "if len(string) < 3 :\n",
    "    print(string)\n",
    "elif string.endswith(\"ing\"):\n",
    "    string = (string + \"ly\")\n",
    "else :\n",
    "    string = (string + \"in\")\n",
    "print(string)"
   ]
  },
  {
   "cell_type": "code",
   "execution_count": 199,
   "id": "7e2a2c26-e425-4908-b216-7b8b6b8dba04",
   "metadata": {},
   "outputs": [
    {
     "name": "stdin",
     "output_type": "stream",
     "text": [
      "Enter The Phrase :  crying\n"
     ]
    },
    {
     "name": "stdout",
     "output_type": "stream",
     "text": [
      "crying\n"
     ]
    }
   ],
   "source": [
    "#22) Write a Python function to reverses a string if its length is a multiple of 4.\n",
    "\n",
    "string = input(\"Enter The Phrase : \")\n",
    "if len(string) % 4 == 0:\n",
    "    string = string[::-1]\n",
    "    print(string)\n",
    "else:\n",
    "    print(string)\n",
    "    "
   ]
  },
  {
   "cell_type": "code",
   "execution_count": 65,
   "id": "ecf76d9b-8f11-4081-b2d5-08c054b3c4f8",
   "metadata": {},
   "outputs": [
    {
     "name": "stdin",
     "output_type": "stream",
     "text": [
      "Enter The String golden\n"
     ]
    },
    {
     "name": "stdout",
     "output_type": "stream",
     "text": [
      "goen\n"
     ]
    }
   ],
   "source": [
    "#23) Write a Python program to get a string made of the first 2 and the last 2 chars from a given a string. If the string length is less than 2, return\n",
    "#    instead of the empty string.\n",
    "string = input(\"Enter The String\")\n",
    "new_string = \"\"\n",
    "if len(string) < 2:\n",
    "    print(new_string)\n",
    "else:\n",
    "    new_string = string[:2] + string[-2:]\n",
    "print(new_string)"
   ]
  },
  {
   "cell_type": "code",
   "execution_count": 213,
   "id": "6de09fe7-cee3-43f1-a3a0-57270e727323",
   "metadata": {},
   "outputs": [
    {
     "data": {
      "text/plain": [
       "'strding'"
      ]
     },
     "execution_count": 213,
     "metadata": {},
     "output_type": "execute_result"
    }
   ],
   "source": [
    "#24)Write a Python function to insert a string in the middle of a string.\n",
    "\n",
    "a = \"string\"\n",
    "a = a[:3] + \"d\" + a[3:]\n",
    "a"
   ]
  },
  {
   "cell_type": "code",
   "execution_count": 225,
   "id": "2ccc7423-0cd6-4389-98bf-19721da887e1",
   "metadata": {},
   "outputs": [
    {
     "data": {
      "text/plain": [
       "[5, 5, 4, 4, 3, 3, 2, 2, 1]"
      ]
     },
     "execution_count": 225,
     "metadata": {},
     "output_type": "execute_result"
    }
   ],
   "source": [
    "#25)What is List? How will you reverse a list?\n",
    "a = [ 1 , 2, 2, 3, 3, 4, 4, 5, 5 ]\n",
    "a = a[::-1]\n",
    "a\n",
    "#list is collection of element in given collection it can be any data type it is orderd and can have duplicates and can be modified after creating it."
   ]
  },
  {
   "cell_type": "code",
   "execution_count": 241,
   "id": "d69b0bb8-27a0-4854-89fa-b2d27c30dac3",
   "metadata": {},
   "outputs": [
    {
     "name": "stdout",
     "output_type": "stream",
     "text": [
      "[1, 2, 2, 3, 3, 4, 4, 5]\n",
      "5\n"
     ]
    }
   ],
   "source": [
    "#26)How will you remove last object from a list?\n",
    "\n",
    "a = [ 1 , 2, 2, 3, 3, 4, 4, 5, 5 ]\n",
    "b = a.pop()\n",
    "print(a)\n",
    "print (b)\n",
    "#The (variable.pop) function can remove the last element in collection"
   ]
  },
  {
   "cell_type": "code",
   "execution_count": 255,
   "id": "cf0a31c0-89ee-42e8-87a0-2de1100e9bc2",
   "metadata": {},
   "outputs": [
    {
     "data": {
      "text/plain": [
       "25"
      ]
     },
     "execution_count": 255,
     "metadata": {},
     "output_type": "execute_result"
    }
   ],
   "source": [
    "#27)Suppose list1 is [2, 33, 222, 14, and 25], what is list1 [-1]?\n",
    "#without separating and will give sytax error.\n",
    "list1 = [2, 33, 222, 14 ,'and', 25]\n",
    "list1[-1]"
   ]
  },
  {
   "cell_type": "code",
   "execution_count": 261,
   "id": "38a76b03-ef3b-4303-acd8-b8e5fa0d252f",
   "metadata": {},
   "outputs": [
    {
     "data": {
      "text/plain": [
       "[1, 2, 2, 3, 3, 4, 4, 5, 5, 6, 6, 7, 7, 8, 8, 9, 9, 10, 10]"
      ]
     },
     "execution_count": 261,
     "metadata": {},
     "output_type": "execute_result"
    }
   ],
   "source": [
    "#28)Differentiate between append () and extend () methods?\n",
    "# append can add individual element end of the list and extend can add multiple elements end of the list\n",
    "\n",
    "#append()\n",
    "#a = [ 1 , 2, 2, 3, 3, 4, 4, 5, 5 ]\n",
    "#a.append(6)\n",
    "#a    \n",
    "#extend()\n",
    " a = [ 1 , 2, 2, 3, 3, 4, 4, 5, 5 ]\n",
    " b = [6, 6, 7, 7, 8, 8, 9, 9, 10,10]\n",
    " a.extend(b)\n",
    " a"
   ]
  },
  {
   "cell_type": "code",
   "execution_count": 95,
   "id": "6f73feba-78cd-4abb-bc43-a6e9c1a533fe",
   "metadata": {},
   "outputs": [
    {
     "name": "stdin",
     "output_type": "stream",
     "text": [
      "Enter The Number and space Between Them 1 2 34 5 6 7 98 9 \n"
     ]
    },
    {
     "name": "stdout",
     "output_type": "stream",
     "text": [
      "largest number is:  98 smallest number is:  1 sum of the total number is:  162\n"
     ]
    }
   ],
   "source": [
    "#29) Write a Python function to get the largest number, smallest num and sum of all from a list.\n",
    "user = input(\"Enter The Number and space Between Them\")\n",
    "number = list(map(int, user.split()))\n",
    "largest_number = max(number)\n",
    "smallest_number = min(number)\n",
    "sum_of_number = sum(number)\n",
    "if not number:\n",
    "    print(0)\n",
    "    largest_number \n",
    "    smallest_number\n",
    "    sum_of_number\n",
    "print(\"largest number is: \" ,largest_number ,  \"smallest number is: \" ,smallest_number,  \"sum of the total number is: \" ,sum_of_number)\n",
    "\n",
    "\n"
   ]
  },
  {
   "cell_type": "code",
   "execution_count": null,
   "id": "6a3a8020-ee18-4c5b-8b2c-4e12a9b4e000",
   "metadata": {},
   "outputs": [],
   "source": [
    "#30)How will you compare two lists?\n",
    "# common element\n",
    "# length of list\n",
    "# identical elements\n",
    "# same elements individual"
   ]
  },
  {
   "cell_type": "code",
   "execution_count": 59,
   "id": "b0a3c966-d0d1-49d8-b18e-32e2079b5a86",
   "metadata": {},
   "outputs": [
    {
     "name": "stdout",
     "output_type": "stream",
     "text": [
      "0\n"
     ]
    }
   ],
   "source": [
    "#31) Write a Python program to count the number of strings where the string\n",
    "#    length is 2 or more and the first and last character are same from a given list\n",
    "#    of strings.\n",
    "\n",
    "string = [\"dog\", \"cat\", \"mouse\", \"hi\", \"bye\", \"ay\", \"ten\", \"den\", \"four\", \"five\", \"cat\", \"i\", \"dog\", \"god\"]\n",
    "count = 0\n",
    "for s in string :\n",
    "    if len(s) >= 2 and s[0] == s[-1]:\n",
    "        count = count+1   \n",
    "print(count)"
   ]
  },
  {
   "cell_type": "code",
   "execution_count": 111,
   "id": "0e1b1584-2f15-4be2-b564-132524fda7c5",
   "metadata": {},
   "outputs": [
    {
     "name": "stdout",
     "output_type": "stream",
     "text": [
      "[1, 3, 74, 56, 6, 63, 47, 2]\n"
     ]
    }
   ],
   "source": [
    "#32)Write a Python program to remove duplicates from a list.\n",
    "\n",
    "list = [1,3,74,56,6,1,63,47,2,1]\n",
    "new_list = []\n",
    "for a in list:\n",
    "    if a not in new_list:\n",
    "        new_list.append(a)\n",
    "print(new_list)"
   ]
  },
  {
   "cell_type": "code",
   "execution_count": 115,
   "id": "b9b100c4-c841-425a-bb62-58df4fe2d264",
   "metadata": {},
   "outputs": [
    {
     "name": "stdout",
     "output_type": "stream",
     "text": [
      "my list is not empty\n"
     ]
    }
   ],
   "source": [
    "#33)Write a Python program to check a list is empty or not.\n",
    "\n",
    "my_list = []\n",
    "\n",
    "if not my_list:\n",
    "    print(\"my list is empty\")\n",
    "else:\n",
    "    print(\"my list is not empty\")"
   ]
  },
  {
   "cell_type": "code",
   "execution_count": 123,
   "id": "da71c4be-a9c2-4e22-8ca1-90d647b04464",
   "metadata": {},
   "outputs": [
    {
     "name": "stdout",
     "output_type": "stream",
     "text": [
      "true\n"
     ]
    }
   ],
   "source": [
    "#34) Write a Python function that takes two lists and returns true if they have at least one common member.\n",
    "\n",
    "list = [1,3,6,54,7,8,9,5,4]\n",
    "list_1 = [1,2,3,6,5,4,7,8,9]\n",
    "for common in list:\n",
    "    if common in list_1:\n",
    "        print(\"true\")\n",
    "    break\n",
    "else:\n",
    "    print(\"They have no common number\")\n",
    "      "
   ]
  },
  {
   "cell_type": "code",
   "execution_count": 205,
   "id": "f5b915a7-f3d0-4f89-a853-33b178377d95",
   "metadata": {},
   "outputs": [
    {
     "name": "stdout",
     "output_type": "stream",
     "text": [
      "[1, 4, 9, 16, 25, 36]\n",
      "[625, 676, 729, 784, 841, 900]\n",
      "[1, 4, 9, 16, 25, 36, 625, 676, 729, 784, 841, 900]\n"
     ]
    }
   ],
   "source": [
    "#35) Write a Python program to generate and print a list of first and last 5 elements where the values are square of numbers between 1 and 30.\n",
    "\n",
    "square_list = []\n",
    "\n",
    "for i in range(1,31):\n",
    "    sq = i**2\n",
    "    square_list.append(sq)  \n",
    "first_five = square_list[:6]\n",
    "last_five = square_list[-6:]\n",
    "print(first_five)\n",
    "print(last_five)\n",
    "print(square_list[:6]+square_list[-6:])"
   ]
  },
  {
   "cell_type": "code",
   "execution_count": 5,
   "id": "5c3ccaef-42bc-4410-932c-08dfcb2dcbab",
   "metadata": {},
   "outputs": [
    {
     "name": "stdout",
     "output_type": "stream",
     "text": [
      "[1, 2, 3, 4, 5, 6]\n"
     ]
    }
   ],
   "source": [
    "#36) Write a Python function that takes a list and returns a new list with unique elements of the first list.\n",
    "\n",
    "#user = input(\"Enter The Number With Spaces Between Numbers\")\n",
    "#number = list(map(int, user.split()))\n",
    "number = [1, 2, 3, 4, 5, 6, 1, 2, 3, 4, 5, 6]\n",
    "unique_element = set(number)\n",
    "print(list(unique_element))\n"
   ]
  },
  {
   "cell_type": "code",
   "execution_count": 7,
   "id": "2039a5a6-1eaa-4ab4-9d35-38aa934305fe",
   "metadata": {},
   "outputs": [
    {
     "name": "stdout",
     "output_type": "stream",
     "text": [
      "HI WORLD\n"
     ]
    }
   ],
   "source": [
    "#37)Write a Python program to convert a list of characters into a string.\n",
    "\n",
    "string = [\"H\", \"I\", \" \" , \"W\", \"O\", \"R\", \"L\", \"D\"]\n",
    "new_string = \"\".join(string)\n",
    "print(new_string)"
   ]
  },
  {
   "cell_type": "code",
   "execution_count": 23,
   "id": "951e48de-3571-40e6-ac47-863d706fe76c",
   "metadata": {},
   "outputs": [
    {
     "name": "stdout",
     "output_type": "stream",
     "text": [
      "{'banana', 'mango', 'orange', 'cake', 'glass', 'apple'}\n"
     ]
    },
    {
     "data": {
      "text/plain": [
       "'mango'"
      ]
     },
     "execution_count": 23,
     "metadata": {},
     "output_type": "execute_result"
    }
   ],
   "source": [
    "#38)Write a Python program to select an item randomly from a list.\n",
    "\n",
    "item = [ \"apple\", \"banana\", \"cake\", \"mango\", \"orange\", \"glass\"]\n",
    "item_set = set(item)\n",
    "print (item_set)\n",
    "item1 = list(item_set)\n",
    "item1[1]"
   ]
  },
  {
   "cell_type": "code",
   "execution_count": 31,
   "id": "75fb58ab-783f-40be-b8d8-4c450ee9a156",
   "metadata": {},
   "outputs": [
    {
     "name": "stdout",
     "output_type": "stream",
     "text": [
      "the second smallest number is:  [2]\n"
     ]
    }
   ],
   "source": [
    "#39)Write a Python program to find the second smallest number in a list.\n",
    "\n",
    "n = [7, 5 ,8, 9 ,8, 1,2 ,3 ,6 ,5, 4, 7, 8 ,9,9]\n",
    "n.sort()\n",
    "print(\"the second smallest number is: \", n[1:2])"
   ]
  },
  {
   "cell_type": "code",
   "execution_count": 3,
   "id": "ead184d8-dd0c-4696-98b2-238e8504b2f4",
   "metadata": {},
   "outputs": [
    {
     "name": "stdout",
     "output_type": "stream",
     "text": [
      "[0, 1, 2, 3, 4, 5, 6, 7, 8, 9]\n"
     ]
    }
   ],
   "source": [
    "#40)Write a Python program to get unique values from a list\n",
    "\n",
    "number =[1, 2, 3, 4, 5, 6, 7, 8, 9, 1, 2, 3, 4, 5, 6, 7, 8, 9, 0]\n",
    "unique = (list(set(number)))\n",
    "print(unique)"
   ]
  },
  {
   "cell_type": "code",
   "execution_count": 43,
   "id": "d3c0a40e-2107-4613-b522-bb8a0e606a4e",
   "metadata": {},
   "outputs": [
    {
     "data": {
      "text/plain": [
       "True"
      ]
     },
     "execution_count": 43,
     "metadata": {},
     "output_type": "execute_result"
    }
   ],
   "source": [
    "#41)Write a Python program to check whether a list contains a sub list\n",
    "main_lst = []\n",
    "sub_lst = []\n",
    "main_lsts = set(main_lst)\n",
    "sub_lsts = set(sub_lst)\n",
    "main_lsts.issuperset(sub_lsts)\n"
   ]
  },
  {
   "cell_type": "code",
   "execution_count": 13,
   "id": "16b05b46-c193-4a9b-915f-6789a579806d",
   "metadata": {},
   "outputs": [
    {
     "name": "stdout",
     "output_type": "stream",
     "text": [
      "1\n",
      "2\n",
      "3\n",
      "4\n",
      "5\n"
     ]
    }
   ],
   "source": [
    "#42)Write a Python program to split a list into different variables.\n",
    "m = [1, 2, 3, 4, 5]\n",
    "a, b, c, d, e = m\n",
    "print(a)\n",
    "print(b)\n",
    "print(c)\n",
    "print(d)\n",
    "print(e)"
   ]
  },
  {
   "cell_type": "code",
   "execution_count": null,
   "id": "7a1ad373-4342-4b4d-a693-d119d8ff4492",
   "metadata": {},
   "outputs": [],
   "source": [
    "#43)What is tuple? Difference between list and tuple.\n",
    "#Mutability     Mutable (can change)\t            Immutable (cannot change)\n",
    "#Syntax\t       Defined with square brackets []\tDefined with parentheses ()\n",
    "#Methods\tMany   (e.g., append(), remove())\t    Few (e.g., count(), index())\n",
    "#Performance\t   Slower (more flexible)\t        Faster (fixed size)\n",
    "#Use Case\t   When items need modification\t    When items should remain constant"
   ]
  },
  {
   "cell_type": "code",
   "execution_count": 41,
   "id": "c0bad9c8-45be-4e26-8074-a111dc60428b",
   "metadata": {},
   "outputs": [
    {
     "name": "stdout",
     "output_type": "stream",
     "text": [
      "<class 'tuple'>\n",
      "b 1\n",
      "c 12.23\n",
      "d false\n",
      "e [1, 2, 3]\n",
      "f hi\n",
      "g (4, 5, 6)\n"
     ]
    }
   ],
   "source": [
    "#44)Write a Python program to create a tuple with different data types.\n",
    "tuple = (1, 12.23, 'false', [1, 2, 3], \"hi\", (4, 5, 6))\n",
    "print(type(tuple))\n",
    "print('b',tuple[0])\n",
    "print('c',tuple[1])\n",
    "print('d',tuple[2])\n",
    "print('e',tuple[3])\n",
    "print('f',tuple[4])\n",
    "print('g',tuple[5])"
   ]
  },
  {
   "cell_type": "code",
   "execution_count": 37,
   "id": "33c79065-ce22-4b5d-a058-d630f138ea87",
   "metadata": {},
   "outputs": [
    {
     "name": "stdout",
     "output_type": "stream",
     "text": [
      "[1, 2, 3, 4, 5, 6, 7]\n",
      "['monday', 'tuesday', 'wednesday', 'thursday', 'friday', 'saturday', 'sunday']\n"
     ]
    }
   ],
   "source": [
    "#45)Write a Python program to unzip a list of tuples into individual lists.\n",
    "days = [(1, 'monday'),(2, 'tuesday'),(3, 'wednesday'),(4, 'thursday'),(5, 'friday'),(6, 'saturday'),(7, 'sunday')]\n",
    "numbers = []\n",
    "weekday = []\n",
    "numbers, weekday = zip(*days)\n",
    "numbers = list(numbers)\n",
    "weekday = list(weekday)\n",
    "print(numbers)\n",
    "print(weekday)"
   ]
  },
  {
   "cell_type": "code",
   "execution_count": 39,
   "id": "62ac022c-5782-49ed-a15f-6786f916c78b",
   "metadata": {},
   "outputs": [
    {
     "name": "stdout",
     "output_type": "stream",
     "text": [
      "{1: 'monday', 2: 'tuesday', 3: 'wednesday', 4: 'thursday', 5: 'friday', 6: 'saturday', 7: 'sunday'}\n"
     ]
    }
   ],
   "source": [
    "#46)Write a Python program to convert a list of tuples into a dictionary.\n",
    "days = [(1, 'monday'),(2, 'tuesday'),(3, 'wednesday'),(4, 'thursday'),(5, 'friday'),(6, 'saturday'),(7, 'sunday')]\n",
    "dairy = dict(days)\n",
    "print(dairy)\n"
   ]
  },
  {
   "cell_type": "code",
   "execution_count": null,
   "id": "b61b1858-6ae7-4fca-ad56-d1490cfafa84",
   "metadata": {},
   "outputs": [],
   "source": [
    "#47)How will you create a dictionary using tuples in python?\n",
    "#By using method of dictionary {dict()} for example dict(tuple) we can use casting method to convert tuple into dictionary.\n"
   ]
  },
  {
   "cell_type": "code",
   "execution_count": 5,
   "id": "f225c80c-99e0-44b4-846f-360c53029fa9",
   "metadata": {},
   "outputs": [
    {
     "name": "stdout",
     "output_type": "stream",
     "text": [
      "{5: 'friday', 1: 'monday', 6: 'saturday', 7: 'sunday', 4: 'thursday', 2: 'tuesday', 3: 'wednesday'}\n",
      "{3: 'wednesday', 2: 'tuesday', 4: 'thursday', 7: 'sunday', 6: 'saturday', 1: 'monday', 5: 'friday'}\n"
     ]
    }
   ],
   "source": [
    "#48)Write a Python script to sort (ascending and descending) a dictionary by value.\n",
    "days = {1 :'monday', 2 : 'tuesday', 3 : 'wednesday',4 : 'thursday',5 : 'friday', 6 : 'saturday',7 : 'sunday'}\n",
    "weekdaya = dict(sorted(days.items(), key = lambda item : item[1]))\n",
    "weekdayd = dict(sorted(days.items(), key = lambda item : item[1] , reverse=True))\n",
    "print(weekdaya)\n",
    "print(weekdayd)"
   ]
  },
  {
   "cell_type": "code",
   "execution_count": 15,
   "id": "50a679ee-79eb-4d09-9eff-a94c2d5fe094",
   "metadata": {},
   "outputs": [
    {
     "name": "stdin",
     "output_type": "stream",
     "text": [
      "Enter The Key Only w\n"
     ]
    },
    {
     "name": "stdout",
     "output_type": "stream",
     "text": [
      "The Given Key 'w' does not exist in dictionary\n"
     ]
    }
   ],
   "source": [
    "#50)Write a Python script to check if a given key already exists in a dictionary.\n",
    "my_dictionary = {'a': 1, 'b': 2, 'c': 3, 'd': 4, 'e': 5, 'f': 6, 'g': 7, 'h': 8, 'i': 9, 'j': 10}\n",
    "def checking_key (key,dictionary):\n",
    "    if key in dictionary:\n",
    "        return True\n",
    "    else:\n",
    "        return False\n",
    "        \n",
    "check_key = input('Enter The Key Only')\n",
    "\n",
    "if checking_key(check_key, my_dictionary):\n",
    "        print(f\"The Given Key '{check_key}' exist in dictionary\")\n",
    "else:\n",
    "        print(f\"The Given Key '{check_key}' does not exist in dictionary\")"
   ]
  },
  {
   "cell_type": "code",
   "execution_count": 17,
   "id": "ef441282-712c-48de-a061-0773f98fc67c",
   "metadata": {},
   "outputs": [
    {
     "name": "stdout",
     "output_type": "stream",
     "text": [
      "a\n",
      "b\n",
      "c\n",
      "d\n",
      "e\n",
      "f\n",
      "g\n",
      "h\n",
      "i\n",
      "j\n",
      "1\n",
      "2\n",
      "3\n",
      "4\n",
      "5\n",
      "6\n",
      "7\n",
      "8\n",
      "9\n",
      "10\n",
      "key: a, value: 1\n",
      "key: b, value: 2\n",
      "key: c, value: 3\n",
      "key: d, value: 4\n",
      "key: e, value: 5\n",
      "key: f, value: 6\n",
      "key: g, value: 7\n",
      "key: h, value: 8\n",
      "key: i, value: 9\n",
      "key: j, value: 10\n"
     ]
    }
   ],
   "source": [
    "#51)How Do You Traverse Through a Dictionary Object in Python?\n",
    "#Traverse through a dictionary object in python can be done in several ways such iterate in keys only or iterate through value only and iterate through both at the same time.\n",
    "#for example:\n",
    "my_dictionary = {'a': 1, 'b': 2, 'c': 3, 'd': 4, 'e': 5, 'f': 6, 'g': 7, 'h': 8, 'i': 9, 'j': 10}\n",
    "#iterate through keys only:\n",
    "for key in my_dictionary:\n",
    "    print(key)\n",
    "#iterate through value only: .values()\n",
    "for value in my_dictionary.values():\n",
    "    print(value)\n",
    "#iterate both key and value:\n",
    "for key, value in my_dictionary.items():\n",
    "    print(f\"key: {key}, value: {value}\")"
   ]
  },
  {
   "cell_type": "code",
   "execution_count": 29,
   "id": "3ec49e8a-b92b-4746-bff4-29ce7c18ae70",
   "metadata": {},
   "outputs": [
    {
     "name": "stdin",
     "output_type": "stream",
     "text": [
      "Enter The Key Only a\n"
     ]
    },
    {
     "name": "stdout",
     "output_type": "stream",
     "text": [
      "The Given Key 'a' exist in dictionary\n"
     ]
    },
    {
     "name": "stdin",
     "output_type": "stream",
     "text": [
      "enter the key a\n"
     ]
    },
    {
     "name": "stdout",
     "output_type": "stream",
     "text": [
      "The given key exist and value is 1\n",
      "key exist\n"
     ]
    }
   ],
   "source": [
    "#52)How Do You Check the Presence of a Key in A Dictionary?\n",
    "#Three ways to check presence of key in dictionary\n",
    "my_dictionary = {'a': 1, 'b': 2, 'c': 3, 'd': 4, 'e': 5, 'f': 6, 'g': 7, 'h': 8, 'i': 9, 'j': 10}\n",
    "#THROUGH \"IN\" TO CHECK OF ITS IN DICTIONARY OR NOT\n",
    "check_key = input('Enter The Key Only')\n",
    "if check_key in my_dictionary:\n",
    "        print(f\"The Given Key '{check_key}' exist in dictionary\")\n",
    "else:\n",
    "        print(f\"The Given Key '{check_key}' does not exist in dictionary\")\n",
    "#THROUGH .GET() METHOD:\n",
    "value = my_dictionary.get(input(\"enter the key\"))\n",
    "if value is not None:\n",
    "    print(f\"The given key exist and value is {value}\")\n",
    "else:\n",
    "    print(\"key does not exist\")\n",
    "#simply get the .keys()\n",
    "if check_key in my_dictionary.keys():\n",
    "    print(\"key exist\")\n"
   ]
  },
  {
   "cell_type": "code",
   "execution_count": 35,
   "id": "72aef25a-7466-4a2e-9579-d9fd2516ba4e",
   "metadata": {},
   "outputs": [
    {
     "name": "stdout",
     "output_type": "stream",
     "text": [
      "{1: 1, 2: 4, 3: 9, 4: 16, 5: 25, 6: 36, 7: 49, 8: 64, 9: 81, 10: 100, 11: 121, 12: 144, 13: 169, 14: 196, 15: 225}\n"
     ]
    }
   ],
   "source": [
    "#53)Write a Python script to print a dictionary where the keys are numbers between 1 and 15.\n",
    "thedictionary = {}\n",
    "for key in range(1 , 16):\n",
    "    thedictionary[key] = key ** 2\n",
    "print(thedictionary)\n",
    "    "
   ]
  },
  {
   "cell_type": "code",
   "execution_count": 51,
   "id": "4235bbd3-ce6f-4e6a-9ae3-6df4c9f5e8d2",
   "metadata": {},
   "outputs": [
    {
     "name": "stdout",
     "output_type": "stream",
     "text": [
      "key exits in given dictionary\n"
     ]
    }
   ],
   "source": [
    "#54)Write a Python program to check multiple keys exists in a dictionary\n",
    "my_dictionary = {'a': 1, 'b': 2, 'c': 3, 'd': 4, 'e': 5, 'f': 6, 'g': 7, 'h': 8, 'i': 9, 'j': 10}\n",
    "def checking_keys(dictionary, keys):\n",
    "    for key in keys:\n",
    "        if key not in dictionary:\n",
    "            return False\n",
    "    return True\n",
    "multi_key = ['a','b', 'c', 'd', 'e', 'f']\n",
    "if checking_keys(my_dictionary, multi_key):\n",
    "    print(\"key exits in given dictionary\")\n",
    "else:\n",
    "    print(\"key does not exist in given dictionary\")\n",
    "    "
   ]
  },
  {
   "cell_type": "code",
   "execution_count": 59,
   "id": "1cfb6a71-4b5f-4b39-8b65-f222eb67fad3",
   "metadata": {
    "scrolled": true
   },
   "outputs": [
    {
     "name": "stdout",
     "output_type": "stream",
     "text": [
      "{'a': 1, 'b': 2, 'c': 3, 'd': 4, 'e': 5, 'f': 6, 'g': 7, 'h': 8, 'i': 9, 'j': 10, 'k': 11, 'l': 12, 'm': 13, 'n': 14, 'o': 15, 'p': 16, 'q': 17, 'r': 18, 's': 19, 't': 20}\n"
     ]
    }
   ],
   "source": [
    "#55)Write a Python script to merge two Python dictionaries\n",
    "my_dictionary = {'a': 1, 'b': 2, 'c': 3, 'd': 4, 'e': 5, 'f': 6, 'g': 7, 'h': 8, 'i': 9, 'j': 10}\n",
    "your_dictionary = {'k':11, 'l': 12, 'm':13, 'n': 14, 'o': 15, 'p': 16, 'q': 17, 'r': 18, 's':19, 't':20}\n",
    "my_dictionary.update(your_dictionary)\n",
    "print(my_dictionary)"
   ]
  },
  {
   "cell_type": "code",
   "execution_count": 63,
   "id": "cfcd9922-d138-4559-8d0b-b5360c55b717",
   "metadata": {},
   "outputs": [
    {
     "name": "stdout",
     "output_type": "stream",
     "text": [
      "{'a': 400, 'b': 400, 'd': 400, 'c': 300}\n"
     ]
    }
   ],
   "source": [
    "#56)Write a Python program to map two lists into a dictionary\n",
    "#Sample output: Counter ({'a': 400, 'b': 400,’d’: 400, 'c': 300}).\n",
    "key = ['a', 'b', 'd', 'c']\n",
    "value = [400, 400, 400, 300]\n",
    "counter = dict(zip(key, value))\n",
    "print(counter)"
   ]
  },
  {
   "cell_type": "code",
   "execution_count": 81,
   "id": "3b913ffc-cf47-4bf4-9dd6-89e58df3fe15",
   "metadata": {
    "scrolled": true
   },
   "outputs": [
    {
     "name": "stdout",
     "output_type": "stream",
     "text": [
      "Three highest values are:  [10, 9, 8]\n"
     ]
    }
   ],
   "source": [
    "#57)Write a Python program to find the highest 3 values in a dictionary\n",
    "my_dictionary = {'a': 1, 'b': 2, 'c': 3, 'd': 4, 'e': 5, 'f': 6, 'g': 7, 'h': 8, 'i': 9, 'j': 10}\n",
    "three_higest_value = sorted(my_dictionary.values(), reverse=True)[ :3]\n",
    "print(\"Three highest values are: \", three_higest_value)"
   ]
  },
  {
   "cell_type": "code",
   "execution_count": 104,
   "id": "355f1f54-eca0-4b4e-8781-825e65440a97",
   "metadata": {},
   "outputs": [
    {
     "name": "stdout",
     "output_type": "stream",
     "text": [
      "counter:  {'item1': 1150, 'item2': 300}\n"
     ]
    }
   ],
   "source": [
    "#58)Write a Python program to combine values in python list of dictionaries.\n",
    "sample_data = [{'item': 'item1', 'amount': 400}, {'item': 'item2', 'amount':300}, {'item': 'item1', 'amount': 750}]\n",
    "#Expected Output: • Counter ({'item1': 1150, 'item2': 300})\n",
    "ans = {}\n",
    "for a in sample_data:\n",
    "    if a['item'] in ans:\n",
    "        ans[a['item']] += a['amount']\n",
    "    else:\n",
    "        ans[a['item']] = a['amount']\n",
    "print('counter: ',ans)"
   ]
  },
  {
   "cell_type": "code",
   "execution_count": 134,
   "id": "1c6515c7-d3ea-488a-8c97-89809e500ddc",
   "metadata": {},
   "outputs": [
    {
     "name": "stdin",
     "output_type": "stream",
     "text": [
      "Enter the String:  hey there were are you!\n"
     ]
    },
    {
     "name": "stdout",
     "output_type": "stream",
     "text": [
      "{'h': 2, 'e': 6, 'y': 2, ' ': 4, 't': 1, 'r': 3, 'w': 1, 'a': 1, 'o': 1, 'u': 1, '!': 1}\n"
     ]
    }
   ],
   "source": [
    "#59)Write a Python program to create a dictionary from a string.\n",
    "#Note: Track the count of the letters from the string.\n",
    "input_string = input(\"Enter the String: \")\n",
    "track_count = str_to_dict(input_string)\n",
    "def str_to_dict(input_string):\n",
    "    track_count = {}\n",
    "    for d in input_string:\n",
    "        track_count[d] = track_count.get(d, 0) + 1\n",
    "    return track_count\n",
    "print(track_count)\n"
   ]
  },
  {
   "cell_type": "code",
   "execution_count": 136,
   "id": "cf1c0f8b-3b30-49ac-972b-937394c45522",
   "metadata": {},
   "outputs": [
    {
     "name": "stdout",
     "output_type": "stream",
     "text": [
      "{'w': 1, '3': 1, 'r': 2, 'e': 2, 's': 1, 'o': 1, 'u': 1, 'c': 1}\n"
     ]
    }
   ],
   "source": [
    "#60)Sample string:'w3resource' Expected output: {'3': 1,’s’: 1, 'r': 2, 'u': 1, 'w': 1, 'c': 1, 'e': 2, 'o': 1}\n",
    "input_string = 'w3resource'\n",
    "track_count = str_to_dict(input_string)\n",
    "def str_to_dict(input_string):\n",
    "    track_count = {}\n",
    "    for d in input_string:\n",
    "        track_count[d] = track_count.get(d, 0) + 1\n",
    "    return track_count\n",
    "print(track_count)"
   ]
  },
  {
   "cell_type": "code",
   "execution_count": 156,
   "id": "ac38cede-6f16-454c-b174-54ccb6050160",
   "metadata": {},
   "outputs": [
    {
     "name": "stdin",
     "output_type": "stream",
     "text": [
      "Enter The Number:  5\n"
     ]
    },
    {
     "name": "stdout",
     "output_type": "stream",
     "text": [
      "120\n"
     ]
    }
   ],
   "source": [
    "#61)Write a Python function to calculate the factorial of a number (a nonnegative integer)\n",
    "import math\n",
    "def calculate_factorial():\n",
    "    number = int(input(\"Enter The Number: \"))\n",
    "    return math.factorial(number)\n",
    "print(calculate_factorial())"
   ]
  },
  {
   "cell_type": "code",
   "execution_count": 160,
   "id": "7be07a81-9aaa-4b2f-81ca-b7737cd6bd55",
   "metadata": {},
   "outputs": [
    {
     "name": "stdout",
     "output_type": "stream",
     "text": [
      "is in range:  True\n"
     ]
    }
   ],
   "source": [
    "#62)Write a Python function to check whether a number is in a given range\n",
    "def given_range(number, start, end):\n",
    "    return start <= number <= end\n",
    "print('is in range: ',given_range(10, 1, 30))\n"
   ]
  },
  {
   "cell_type": "code",
   "execution_count": 176,
   "id": "1afe812a-9c2a-4db4-8fea-05a86c5d84af",
   "metadata": {},
   "outputs": [
    {
     "name": "stdin",
     "output_type": "stream",
     "text": [
      "Enter the number:  6\n"
     ]
    },
    {
     "name": "stdout",
     "output_type": "stream",
     "text": [
      "The given number 6 is perfect\n"
     ]
    }
   ],
   "source": [
    "#63)Write a Python function to check whether a number is perfect or not.\n",
    "def perfect_number(number):\n",
    "    if number < 1:\n",
    "        return False\n",
    "    divisor = 0\n",
    "    for i in range(1, number):\n",
    "            if number % i == 0:\n",
    "                divisor += i\n",
    "    return divisor == number\n",
    "num = int(input(\"Enter the number: \"))\n",
    "if perfect_number(num):\n",
    "    print(f\"The given number {num} is perfect\")\n",
    "else:\n",
    "    print(f\"The given number {num} is not perfect\")"
   ]
  },
  {
   "cell_type": "code",
   "execution_count": 186,
   "id": "91c79d69-5139-4408-a5f3-03689d678110",
   "metadata": {},
   "outputs": [
    {
     "name": "stdin",
     "output_type": "stream",
     "text": [
      "Enter the String:  apple\n"
     ]
    },
    {
     "name": "stdout",
     "output_type": "stream",
     "text": [
      "apple is not palindrome\n"
     ]
    }
   ],
   "source": [
    "#64)Write a Python function that checks whether a passed string is palindrome or not\n",
    "def palindrome(string):\n",
    "    palindrome_string = ''.join(string.split()).lower()\n",
    "    return palindrome_string == palindrome_string[::-1]\n",
    "new_string = input(\"Enter the String: \")\n",
    "if palindrome(new_string):\n",
    "    print(f\"{new_string} is palindrome\")\n",
    "else:\n",
    "    print(f\"{new_string} is not palindrome\")\n",
    "    "
   ]
  },
  {
   "cell_type": "code",
   "execution_count": null,
   "id": "5474d7f3-b45b-4032-bc4e-2652cd1425c1",
   "metadata": {},
   "outputs": [],
   "source": [
    "#65)How Many Basic Types of Functions Are Available in Python?\n",
    "#1) Built-in Functions:\n",
    "                      # Provided by Python's standard library.\n",
    "                     #  Examples: print(), len(), type(), input().\n",
    "\n",
    "#2)User-Defined Functions:\n",
    "                   #     Defined by the user using the def keyword.\n",
    "                    #    Allows customization for specific tasks.\n",
    "#3)Lambda Functions:\n",
    "#                   Also known as anonymous functions.\n",
    "#                   Defined using the lambda keyword.\n",
    "#                   Useful for short, throwaway functions with a single expression.\n",
    "#4)Recursive Functions:\n",
    "#                       Functions that call themselves.\n",
    "#                       Used for problems that can be broken down into smaller subproblems."
   ]
  },
  {
   "cell_type": "code",
   "execution_count": null,
   "id": "31c014a6-637f-4422-94aa-1bb255c1042a",
   "metadata": {},
   "outputs": [],
   "source": [
    "#66)How can you pick a random item from a list or tuple?\n",
    "#1)Import the random module: You need to import the module to use its functions.\n",
    "#2)Use random.choice():\n",
    "#3)Call random.choice() and pass the list or tuple as an argument.\n",
    "#4)It returns a randomly selected item."
   ]
  },
  {
   "cell_type": "code",
   "execution_count": 188,
   "id": "2913b74a-cfd8-43a4-89af-2bbdfd9848e2",
   "metadata": {},
   "outputs": [
    {
     "name": "stdout",
     "output_type": "stream",
     "text": [
      "Random item from range(1, 10): 10\n",
      "Random item from range(1, 10): 1\n"
     ]
    }
   ],
   "source": [
    "#67)How can you pick a random item from a range?\n",
    "#the random.randint() function or the random.choice() function with range()\n",
    "#1) random.randint():\n",
    "import random\n",
    "start = 1\n",
    "end = 10\n",
    "random_item = random.randint(start, end)\n",
    "print(f\"Random item from range({start}, {end}): {random_item}\")\n",
    "#2) random.choice():\n",
    "import random\n",
    "start = 1\n",
    "end = 10\n",
    "random_item = random.choice(range(start, end + 1))\n",
    "print(f\"Random item from range({start}, {end}): {random_item}\")"
   ]
  },
  {
   "cell_type": "code",
   "execution_count": 190,
   "id": "935ddca1-6c6f-431c-a2e1-ba9201d699dd",
   "metadata": {},
   "outputs": [
    {
     "name": "stdout",
     "output_type": "stream",
     "text": [
      "53\n",
      "96.21500646782854\n"
     ]
    }
   ],
   "source": [
    "#68)How can you get a random number in python?\n",
    "#1) Using the random module:\n",
    "import random\n",
    "random_number = random.randint(1, 100)\n",
    "print(random_number)\n",
    "#2) Using the random module with uniform():\n",
    "import random\n",
    "random_number = random.uniform(1, 100)\n",
    "print(random_number)"
   ]
  },
  {
   "cell_type": "code",
   "execution_count": 196,
   "id": "d375e77a-b34d-4926-93cb-5ae2c46d4d05",
   "metadata": {},
   "outputs": [
    {
     "name": "stdout",
     "output_type": "stream",
     "text": [
      "15\n"
     ]
    }
   ],
   "source": [
    "#69)How will you set the starting value in generating random numbers?\n",
    "#To set the starting value for random number generation, you can use the seed() function from the random module. The seed()\n",
    "# function sets the seed value for the random number generator, which determines the sequence of numbers generated.\n",
    "import random\n",
    "random.seed(28)\n",
    "random_number = random.randint(1, 100)\n",
    "print(random_number)"
   ]
  },
  {
   "cell_type": "code",
   "execution_count": 198,
   "id": "97b4202c-74d9-4201-9374-c727a86cd513",
   "metadata": {},
   "outputs": [
    {
     "name": "stdout",
     "output_type": "stream",
     "text": [
      "Shuffled list: [4, 3, 1, 5, 2]\n"
     ]
    }
   ],
   "source": [
    "#70) How will you randomize the items of a list in place?\n",
    "#To randomize the items of a list in place, you can use the random.shuffle() function from the random module.\n",
    "# This function shuffles the elements of the list in place, meaning that it modifies the original list.\n",
    "import random\n",
    "my_list = [1, 2, 3, 4, 5]\n",
    "random.shuffle(my_list)\n",
    "print(\"Shuffled list:\", my_list)"
   ]
  },
  {
   "cell_type": "code",
   "execution_count": null,
   "id": "ee255854-db73-4421-98bc-c243cc64e2a3",
   "metadata": {},
   "outputs": [],
   "source": [
    "#71)What is File function in python? What are keywords to create and write file.\n",
    "#To create a file, you can use the open function with the following keywords:\n",
    "# w: write mode (will overwrite any existing file with the same name)\n",
    "# a: append mode (will add new content to the end of an existing file)\n",
    "# x: create mode (will create a new file and fail if the file already exists)\n",
    "# r+: read and write mode (will open an existing file for reading and writing)"
   ]
  },
  {
   "cell_type": "code",
   "execution_count": 250,
   "id": "d0d54699-60ab-4058-8d30-f142ed3b1d5c",
   "metadata": {},
   "outputs": [
    {
     "ename": "FileExistsError",
     "evalue": "[Errno 17] File exists: 'sandeep.txt'",
     "output_type": "error",
     "traceback": [
      "\u001b[1;31m---------------------------------------------------------------------------\u001b[0m",
      "\u001b[1;31mFileExistsError\u001b[0m                           Traceback (most recent call last)",
      "Cell \u001b[1;32mIn[250], line 2\u001b[0m\n\u001b[0;32m      1\u001b[0m \u001b[38;5;66;03m#72)Write a Python program to read an entire text file.\u001b[39;00m\n\u001b[1;32m----> 2\u001b[0m s \u001b[38;5;241m=\u001b[39m \u001b[38;5;28mopen\u001b[39m(\u001b[38;5;124m'\u001b[39m\u001b[38;5;124msandeep.txt\u001b[39m\u001b[38;5;124m'\u001b[39m, \u001b[38;5;124m'\u001b[39m\u001b[38;5;124mx\u001b[39m\u001b[38;5;124m'\u001b[39m)\n",
      "File \u001b[1;32m~\\anaconda3\\Lib\\site-packages\\IPython\\core\\interactiveshell.py:324\u001b[0m, in \u001b[0;36m_modified_open\u001b[1;34m(file, *args, **kwargs)\u001b[0m\n\u001b[0;32m    317\u001b[0m \u001b[38;5;28;01mif\u001b[39;00m file \u001b[38;5;129;01min\u001b[39;00m {\u001b[38;5;241m0\u001b[39m, \u001b[38;5;241m1\u001b[39m, \u001b[38;5;241m2\u001b[39m}:\n\u001b[0;32m    318\u001b[0m     \u001b[38;5;28;01mraise\u001b[39;00m \u001b[38;5;167;01mValueError\u001b[39;00m(\n\u001b[0;32m    319\u001b[0m         \u001b[38;5;124mf\u001b[39m\u001b[38;5;124m\"\u001b[39m\u001b[38;5;124mIPython won\u001b[39m\u001b[38;5;124m'\u001b[39m\u001b[38;5;124mt let you open fd=\u001b[39m\u001b[38;5;132;01m{\u001b[39;00mfile\u001b[38;5;132;01m}\u001b[39;00m\u001b[38;5;124m by default \u001b[39m\u001b[38;5;124m\"\u001b[39m\n\u001b[0;32m    320\u001b[0m         \u001b[38;5;124m\"\u001b[39m\u001b[38;5;124mas it is likely to crash IPython. If you know what you are doing, \u001b[39m\u001b[38;5;124m\"\u001b[39m\n\u001b[0;32m    321\u001b[0m         \u001b[38;5;124m\"\u001b[39m\u001b[38;5;124myou can use builtins\u001b[39m\u001b[38;5;124m'\u001b[39m\u001b[38;5;124m open.\u001b[39m\u001b[38;5;124m\"\u001b[39m\n\u001b[0;32m    322\u001b[0m     )\n\u001b[1;32m--> 324\u001b[0m \u001b[38;5;28;01mreturn\u001b[39;00m io_open(file, \u001b[38;5;241m*\u001b[39margs, \u001b[38;5;241m*\u001b[39m\u001b[38;5;241m*\u001b[39mkwargs)\n",
      "\u001b[1;31mFileExistsError\u001b[0m: [Errno 17] File exists: 'sandeep.txt'"
     ]
    }
   ],
   "source": [
    "#72)Write a Python program to read an entire text file.\n",
    "s = open('sandeep.txt', 'x')"
   ]
  },
  {
   "cell_type": "code",
   "execution_count": 216,
   "id": "ffee0826-4032-4034-9ef5-be5c514565bb",
   "metadata": {},
   "outputs": [
    {
     "name": "stdout",
     "output_type": "stream",
     "text": [
      "264\n",
      "What! We have heard of the spear-Danes, how they in former days were noble kinsmen, how they promoted the people's courage. Often Scyld Scefing, the destroyer of many, stood over the earth, a comfort to men, against the slaughter-spear, the grim, the wound-wonder.\n"
     ]
    },
    {
     "data": {
      "text/plain": [
       "<function TextIOWrapper.close()>"
      ]
     },
     "execution_count": 216,
     "metadata": {},
     "output_type": "execute_result"
    }
   ],
   "source": [
    "s = open('sandeep.txt', 'w')\n",
    "print(s.write(\"What! We have heard of the spear-Danes, how they in former days were noble kinsmen, how they promoted the people's courage. Often Scyld Scefing, the destroyer of many, stood over the earth, a comfort to men, against the slaughter-spear, the grim, the wound-wonder.\"))\n",
    "s = open('sandeep.txt', 'r')\n",
    "print(s.read())\n",
    "s.close"
   ]
  },
  {
   "cell_type": "code",
   "execution_count": 218,
   "id": "0859c359-2085-431c-b342-0936e7b8e1da",
   "metadata": {},
   "outputs": [
    {
     "name": "stdout",
     "output_type": "stream",
     "text": [
      "What! We have heard of the spear-Danes, how they in former days were noble kinsmen, how they promoted the people's courage. Often Scyld Scefing, the destroyer of many, stood over the earth, a comfort to men, against the slaughter-spear, the grim, the wound-wonder.Please note that Old English is a highly inflected language with a complex grammar system, and the translation may not be word-for-word.\n"
     ]
    },
    {
     "data": {
      "text/plain": [
       "<function TextIOWrapper.close()>"
      ]
     },
     "execution_count": 218,
     "metadata": {},
     "output_type": "execute_result"
    }
   ],
   "source": [
    "#73)Write a Python program to append text to a file and display the text.\n",
    "s = open('sandeep.txt', 'a')\n",
    "s.write(\"Please note that Old English is a highly inflected language with a complex grammar system, and the translation may not be word-for-word.\")\n",
    "s = open('sandeep.txt', 'r')\n",
    "print(s.read())\n",
    "s.close"
   ]
  },
  {
   "cell_type": "code",
   "execution_count": 1,
   "id": "d0905760-0a5a-4418-8800-8aa5b1f6924a",
   "metadata": {},
   "outputs": [
    {
     "name": "stdout",
     "output_type": "stream",
     "text": [
      "What! We have heard of the spear-Danes, how they i\n"
     ]
    },
    {
     "data": {
      "text/plain": [
       "<function TextIOWrapper.close()>"
      ]
     },
     "execution_count": 1,
     "metadata": {},
     "output_type": "execute_result"
    }
   ],
   "source": [
    "#74)Write a Python program to read first n lines of a file.\n",
    "s = open('sandeep.txt', 'r')\n",
    "print(s.read(50))\n",
    "s.close"
   ]
  },
  {
   "cell_type": "code",
   "execution_count": 266,
   "id": "cc696e56-e064-48c9-9a24-f28c5171dc77",
   "metadata": {},
   "outputs": [
    {
     "name": "stdout",
     "output_type": "stream",
     "text": [
      "What! We have heard of the spear-Danes, how they in former days were noble kinsmen, how they promoted the people's courage. Often Scyld Scefing, the destroyer of many, stood over the earth, a comfort to men, against the slaughter-spear, the grim, the wound-wonder.Please note that Old English is a highly inflected language with a complex grammar system, and the translation may not be word-for-word.\n"
     ]
    },
    {
     "data": {
      "text/plain": [
       "<function TextIOWrapper.close()>"
      ]
     },
     "execution_count": 266,
     "metadata": {},
     "output_type": "execute_result"
    }
   ],
   "source": [
    "#75)Write a Python program to read last n lines of a file.\n",
    "s = open('sandeep.txt', 'r')\n",
    "print(s.read())\n",
    "s.close"
   ]
  },
  {
   "cell_type": "code",
   "execution_count": 246,
   "id": "75a73862-4ad0-4722-b1c9-06d22560c3fa",
   "metadata": {},
   "outputs": [
    {
     "name": "stdout",
     "output_type": "stream",
     "text": [
      "What! We have heard of the spear-Danes, how they in former days were noble kinsmen, how they promoted the people's courage. Often Scyld Scefing, the destroyer of many, stood over the earth, a comfort to men, against the slaughter-spear, the grim, the wound-wonder.Please note that Old English is a highly inflected language with a complex grammar system, and the translation may not be word-for-word.\n",
      "[\"What! We have heard of the spear-Danes, how they in former days were noble kinsmen, how they promoted the people's courage. Often Scyld Scefing, the destroyer of many, stood over the earth, a comfort to men, against the slaughter-spear, the grim, the wound-wonder.Please note that Old English is a highly inflected language with a complex grammar system, and the translation may not be word-for-word.\"]\n"
     ]
    }
   ],
   "source": [
    "#76)Write a Python program to read a file line by line and store it into a list\n",
    "x = []\n",
    "s = open('sandeep.txt', 'r')\n",
    "for i in s:\n",
    "    print(i)\n",
    "    x.append(i)\n",
    "    print(x)"
   ]
  },
  {
   "cell_type": "code",
   "execution_count": 258,
   "id": "5a686569-24f0-41b1-b4cd-09ad2ae652ca",
   "metadata": {},
   "outputs": [
    {
     "name": "stdout",
     "output_type": "stream",
     "text": [
      "<_io.TextIOWrapper name='sandeep.txt' mode='r' encoding='cp1252'>\n",
      "What! We have heard of the spear-Danes, how they in former days were noble kinsmen, how they promoted the people's courage. Often Scyld Scefing, the destroyer of many, stood over the earth, a comfort to men, against the slaughter-spear, the grim, the wound-wonder.Please note that Old English is a highly inflected language with a complex grammar system, and the translation may not be word-for-word.\n"
     ]
    },
    {
     "data": {
      "text/plain": [
       "<function TextIOWrapper.close()>"
      ]
     },
     "execution_count": 258,
     "metadata": {},
     "output_type": "execute_result"
    }
   ],
   "source": [
    "#77)Write a Python program to read a file line by line store it into a variable.\n",
    "s = open('sandeep.txt', 'r')\n",
    "b = \"\"\n",
    "for h in s:\n",
    "    print(s)\n",
    "    b += h\n",
    "    print(b)\n",
    "s.close"
   ]
  },
  {
   "cell_type": "code",
   "execution_count": 3,
   "id": "0940b83d-bd1c-4737-956b-bccb5edbe406",
   "metadata": {},
   "outputs": [
    {
     "name": "stdout",
     "output_type": "stream",
     "text": [
      "watermelon\n"
     ]
    }
   ],
   "source": [
    "#78)Write a python program to find the longest words.\n",
    "words = ['apple', 'banana', 'grape', 'watermelon']\n",
    "def find_longest_word(words):\n",
    "    longest_word = max(words, key=len)\n",
    "    return longest_word\n",
    "print(find_longest_word(words))"
   ]
  },
  {
   "cell_type": "code",
   "execution_count": 264,
   "id": "85dedd0d-325e-4e8d-87a2-f432be75bc03",
   "metadata": {},
   "outputs": [
    {
     "name": "stdout",
     "output_type": "stream",
     "text": [
      "1\n"
     ]
    },
    {
     "data": {
      "text/plain": [
       "<function TextIOWrapper.close()>"
      ]
     },
     "execution_count": 264,
     "metadata": {},
     "output_type": "execute_result"
    }
   ],
   "source": [
    "#79)Write a Python program to count the number of lines in a text file.\n",
    "s = open('sandeep.txt', 'r')\n",
    "lines = s.readlines()\n",
    "count = len(lines)\n",
    "print(count)\n",
    "s.close"
   ]
  },
  {
   "cell_type": "code",
   "execution_count": 28,
   "id": "ea78d956-9d99-49c7-8bc9-52afc4513f47",
   "metadata": {},
   "outputs": [
    {
     "name": "stdout",
     "output_type": "stream",
     "text": [
      "{'w': 10, 'h': 22, 'a': 26, 't': 29, '!': 1, ' ': 63, 'e': 44, 'v': 2, 'r': 22, 'd': 14, 'o': 28, 'f': 8, 's': 18, 'p': 7, '-': 5, 'n': 20, ',': 9, 'y': 9, 'i': 11, 'm': 12, 'b': 2, 'l': 12, 'k': 1, \"'\": 1, 'c': 6, 'u': 4, 'g': 10, '.': 3, '\\n': 2, 'x': 1}\n"
     ]
    },
    {
     "data": {
      "text/plain": [
       "<function TextIOWrapper.close()>"
      ]
     },
     "execution_count": 28,
     "metadata": {},
     "output_type": "execute_result"
    }
   ],
   "source": [
    "#80)Write a Python program to count the frequency of words in a file.\n",
    "s = open('sandeep.txt', 'r')\n",
    "context = s.read()\n",
    "words = context.strip().lower()\n",
    "let_count = {}\n",
    "for word in words:\n",
    "    if word in let_count:\n",
    "        let_count[word] += 1\n",
    "    else:\n",
    "        let_count[word] = 1\n",
    "print(let_count)\n",
    "s.close"
   ]
  },
  {
   "cell_type": "code",
   "execution_count": 32,
   "id": "1951412a-88cc-4888-8e22-b27e8b2a0960",
   "metadata": {},
   "outputs": [],
   "source": [
    "#81)Write a Python program to write a list to a file.\n",
    "my_list = ['apple', 'banana', 'cherry', 'date']\n",
    "\n",
    "\n",
    "with open('sandeep.txt', 'a') as file:\n",
    "    for item in my_list:\n",
    "        file.write(item + '\\n')  \n"
   ]
  },
  {
   "cell_type": "code",
   "execution_count": null,
   "id": "391222a1-8675-4308-924b-ad0923e11dce",
   "metadata": {},
   "outputs": [],
   "source": [
    "#82)Write a Python program to copy the contents of a file to another file.\n",
    "\n",
    "with open('sandeep.txt', 'r') as q:\n",
    "    with open('sandeep2.txt', 'w') as w:\n",
    "        contents = q.read()\n",
    "        w.write(contents)\n",
    "print(\"File copied successfully!\")"
   ]
  },
  {
   "cell_type": "code",
   "execution_count": null,
   "id": "f6b1a278-6337-4bb5-8c2d-9be546696efe",
   "metadata": {},
   "outputs": [],
   "source": [
    "#83)Explain Exception handling? What is an Error in Python?\n",
    "#Exception handling is a way to anticipate, detect, and recover from errors in Python. It uses try and except blocks to catch and handle errors.\n",
    "#An error in Python is an exception that occurs during the execution of the code."
   ]
  },
  {
   "cell_type": "code",
   "execution_count": null,
   "id": "e2ee2da0-8701-4b85-b1e1-1418ed46ca5d",
   "metadata": {},
   "outputs": [],
   "source": [
    "#84)How many except statements can a try-except block have? NameSome built-in exception classes:\n",
    "#A try-except block can have multiple except statements. There is no limit to the number of except statements you can have in a try-except block.\n",
    "#Exception: The base class for all exceptions\n",
    "#SyntaxError: Raised when there is a syntax error in the code\n",
    "#RuntimeError: Raised when an error occurs during the execution of the code\n",
    "#TypeError: Raised when there is a type mismatch or invalid operation\n",
    "#ValueError: Raised when a function or operation receives an invalid or unexpected value\n",
    "#IOError: Raised when an input/output operation fails\n",
    "#ImportError: Raised when an import statement fails\n",
    "#ZeroDivisionError: Raised when a division by zero occurs\n",
    "#IndexError: Raised when an index is out of range\n",
    "#KeyError: Raised when a key is not found in a dictionary\n",
    "#NameError: Raised when a variable is not defined"
   ]
  },
  {
   "cell_type": "code",
   "execution_count": null,
   "id": "a8c3d6ab-5681-4217-bfb0-8088511099b3",
   "metadata": {},
   "outputs": [],
   "source": [
    "#85)When will the else part of try-except-else be executed?\n",
    "#The else part of a try-except-else block is executed when no exception is raised in the try block. In other words,\n",
    "#if the code in the try block executes successfully without raising any exceptions,\n",
    "#the code in the else block will be executed."
   ]
  },
  {
   "cell_type": "code",
   "execution_count": null,
   "id": "ec777e25-be3c-4e64-bc42-d0ec18aeeac2",
   "metadata": {},
   "outputs": [],
   "source": [
    "#86)Can one block of except statements handle multiple exception?\n",
    "#Yes, one block of except statements can handle multiple exceptions. You can separate the exception types with a comma in the except statement."
   ]
  },
  {
   "cell_type": "code",
   "execution_count": 212,
   "id": "4f404dab-9345-4863-b81d-730e422b5716",
   "metadata": {},
   "outputs": [
    {
     "name": "stdout",
     "output_type": "stream",
     "text": [
      "Try block\n",
      "Except block\n",
      "Finally block\n",
      "After the try-except-finally block\n"
     ]
    }
   ],
   "source": [
    "#87)When is the finally block executed?\n",
    "#The finally block is typically used to:\n",
    "#Release resources (e.g., close files, release locks)\n",
    "#Clean up after an operation\n",
    "#Ensure that certain tasks are performed regardless of the outcome of the try block\n",
    "try:\n",
    "    print(\"Try block\")\n",
    "    x = 1 / 0  \n",
    "except ZeroDivisionError:\n",
    "    print(\"Except block\")\n",
    "finally:\n",
    "    print(\"Finally block\")\n",
    "\n",
    "print(\"After the try-except-finally block\")"
   ]
  },
  {
   "cell_type": "code",
   "execution_count": 210,
   "id": "87a85f56-18db-4ac2-b4a4-7d8dfc43c768",
   "metadata": {},
   "outputs": [
    {
     "name": "stdout",
     "output_type": "stream",
     "text": [
      "False\n"
     ]
    }
   ],
   "source": [
    "#88)What happens when „1‟== 1 is executed?\n",
    "#When you execute the expression \"1\" == 1 in Python, it will evaluate to False\n",
    "print(\"1\" == 1)"
   ]
  },
  {
   "cell_type": "code",
   "execution_count": 36,
   "id": "8f64a337-1708-41b8-9d94-13a19bb2bd65",
   "metadata": {},
   "outputs": [
    {
     "name": "stdout",
     "output_type": "stream",
     "text": [
      "This code will always run!\n"
     ]
    }
   ],
   "source": [
    "#89)How Do You Handle Exceptions with Try/Except/Finally in Python? Explain with coding snippets.\n",
    "#In Python, the try-except-finally block is used to handle exceptions.\n",
    "#The try block contains the code that might raise an exception, the except block contains the code to handle the exception,\n",
    "#and the finally block contains the code that will be executed regardless of whether an exception was raised or not.\n",
    "try:\n",
    "    x = 5 / 1\n",
    "except ZeroDivisionError:\n",
    "    print(\"Error: Division by zero not allow\")\n",
    "finally:\n",
    "    print(\"This code will always run!\")\n"
   ]
  },
  {
   "cell_type": "code",
   "execution_count": 54,
   "id": "bae8134d-b8e0-4948-bdf7-4617b44dbf77",
   "metadata": {},
   "outputs": [
    {
     "ename": "IndentationError",
     "evalue": "expected an indented block after 'if' statement on line 5 (1115256970.py, line 6)",
     "output_type": "error",
     "traceback": [
      "\u001b[1;36m  Cell \u001b[1;32mIn[54], line 6\u001b[1;36m\u001b[0m\n\u001b[1;33m    except ValueError(\"You must enter an odd number!\")\u001b[0m\n\u001b[1;37m    ^\u001b[0m\n\u001b[1;31mIndentationError\u001b[0m\u001b[1;31m:\u001b[0m expected an indented block after 'if' statement on line 5\n"
     ]
    }
   ],
   "source": [
    "#90)Write python program that user to enter only odd numbers, else will raise an exception.\n",
    "for odd in range(): \n",
    "    try:\n",
    "        num = int(input(\"Enter an odd number: \"))\n",
    "        if num % 2 == 0:\n",
    "    except ValueError(\"You must enter an odd number!\")\n",
    "        else:\n",
    "            print(\"You entered an odd number:\", num)\n",
    "            break\n",
    "            \n",
    "    except ValueError as e:\n",
    "        print(\"Error:\", e)\n",
    "else:\n",
    "finally:\n",
    "    print(\"You exceeded the maximum number of attempts!\")"
   ]
  },
  {
   "cell_type": "code",
   "execution_count": null,
   "id": "a38bed73-effa-4772-8166-e92afa654217",
   "metadata": {},
   "outputs": [],
   "source": []
  }
 ],
 "metadata": {
  "kernelspec": {
   "display_name": "Python 3 (ipykernel)",
   "language": "python",
   "name": "python3"
  },
  "language_info": {
   "codemirror_mode": {
    "name": "ipython",
    "version": 3
   },
   "file_extension": ".py",
   "mimetype": "text/x-python",
   "name": "python",
   "nbconvert_exporter": "python",
   "pygments_lexer": "ipython3",
   "version": "3.12.4"
  }
 },
 "nbformat": 4,
 "nbformat_minor": 5
}
